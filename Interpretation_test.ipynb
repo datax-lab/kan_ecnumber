{
 "cells": [
  {
   "cell_type": "code",
   "execution_count": 1,
   "id": "4801ed2f-97ce-4004-9d68-5fa0f22f0078",
   "metadata": {},
   "outputs": [],
   "source": [
    "from Interpretation import *\n",
    "import numpy as np"
   ]
  },
  {
   "cell_type": "code",
   "execution_count": 2,
   "id": "75a456b7-68d9-42be-93b0-875792f00efc",
   "metadata": {},
   "outputs": [],
   "source": [
    "sequence = 'ALEYQYVMKNPKQLSFEKFSRRLSAKAFSVKKLLTNDDLSNDIHRGYLLLQGKSLDGLLETMIQEVKEIFESRLLKLTDWNTARVFDFCSSLVFEITFTTIYGKILAANKKQIISELRDDFLKFDDHFPYLVSDIPIQLLRNAEFMQKKIIKCLTPEKVAQMQRRSEIVQERQEMLKKYYGHEEFEIGAHHLGLLWASLANTIPAMFWAMYYLLQHPEAMEVLRDEIDSFLQSTGQKKGPGISVHFTREQLDSLVCLESAILEVLRLCSYSSIIREVQEDMDFSSESRSYRLRKGDFVAVFPPMIHNDPEVFDAPKDFRFDRFVEDGKKKTTFFKGGKKLKSYIIPFGLGTSKCPGRYFAINEMKLLVIILLTYFDLEVIDTKPIGLNHSRMFLGIQHPDSDISFRYKAKSWRS'\n",
    "seq_length = len(sequence)"
   ]
  },
  {
   "cell_type": "code",
   "execution_count": 3,
   "id": "71455de0-f39d-413f-80a9-a741771e9f2a",
   "metadata": {},
   "outputs": [
    {
     "name": "stdout",
     "output_type": "stream",
     "text": [
      "checkpoint directory created: ./model\n",
      "saving model version 0.0\n"
     ]
    }
   ],
   "source": [
    "model = DeepEC_KAN()\n",
    "model.eval()\n",
    "checkpoint = torch.load('./model_inter.ckpt', map_location=torch.device('cpu'))\n",
    "model.load_state_dict(checkpoint, strict=False);"
   ]
  },
  {
   "cell_type": "code",
   "execution_count": 4,
   "id": "1de657ef-b2bc-4f0a-ba58-7291b802b077",
   "metadata": {},
   "outputs": [],
   "source": [
    "class SeqEncoder:\n",
    "    def __init__(self):\n",
    "        self.categories = np.array(list('ACDEFGHIKLMNPQRSTVWYX'))\n",
    "\n",
    "    def char_to_one_hot_encoding(self, c):\n",
    "        X_int = np.zeros(len(self.categories), dtype=np.int8)\n",
    "        index = np.where(self.categories == c)[0]\n",
    "\n",
    "        if len(index) == 0: return X_int\n",
    "\n",
    "        X_int[index] = 1\n",
    "        return X_int\n",
    "\n",
    "    def seq_to_one_hot_encoding(self, seq):\n",
    "        return np.array([self.char_to_one_hot_encoding(c) for c in seq])\n",
    "\n",
    "    def one_hot_encoding_to_seq(self, one_hot_encoding):\n",
    "        X = np.array(one_hot_encoding).reshape(-1, 21)\n",
    "        last_index = np.where(np.sum(X, axis=1) == 0)[0]\n",
    "        last_index = 1000 if len(last_index) == 0 else last_index[0]\n",
    "        return ''.join(self.categories[X.argmax(axis=1)][:last_index])"
   ]
  },
  {
   "cell_type": "code",
   "execution_count": 5,
   "id": "afccacf9-ead4-499a-acae-6dde9395a43c",
   "metadata": {},
   "outputs": [],
   "source": [
    "sequence = sequence + ' ' * (1000 - len(sequence))\n",
    "sequence = SeqEncoder().seq_to_one_hot_encoding(sequence)"
   ]
  },
  {
   "cell_type": "code",
   "execution_count": 6,
   "id": "2d964d75-01e0-485c-9de8-23063813081c",
   "metadata": {},
   "outputs": [],
   "source": [
    "input_model = torch.Tensor(sequence).unsqueeze(0)"
   ]
  },
  {
   "cell_type": "code",
   "execution_count": 7,
   "id": "42d3a039-8754-472e-aa9b-7e5cbb23495b",
   "metadata": {},
   "outputs": [
    {
     "name": "stderr",
     "output_type": "stream",
     "text": [
      "/home/dumontet/conda/envs/kan_env/lib/python3.9/site-packages/kan/MultKAN.py:402: UserWarning: std(): degrees of freedom is <= 0. Correction should be strictly less than the reduction factor (input numel divided by output numel). (Triggered internally at ../aten/src/ATen/native/ReduceOps.cpp:1760.)\n",
      "  self.subnode_actscale.append(torch.std(x, dim=0).detach())\n",
      "/home/dumontet/conda/envs/kan_env/lib/python3.9/site-packages/kan/MultKAN.py:412: UserWarning: std(): degrees of freedom is <= 0. Correction should be strictly less than the reduction factor (input numel divided by output numel). (Triggered internally at ../aten/src/ATen/native/ReduceOps.cpp:1760.)\n",
      "  input_range = torch.std(preacts, dim=0) + 0.1\n",
      "/home/dumontet/conda/envs/kan_env/lib/python3.9/site-packages/kan/MultKAN.py:413: UserWarning: std(): degrees of freedom is <= 0. Correction should be strictly less than the reduction factor (input numel divided by output numel). (Triggered internally at ../aten/src/ATen/native/ReduceOps.cpp:1760.)\n",
      "  output_range_spline = torch.std(postacts_numerical, dim=0) # for training, only penalize the spline part\n",
      "/home/dumontet/conda/envs/kan_env/lib/python3.9/site-packages/kan/MultKAN.py:414: UserWarning: std(): degrees of freedom is <= 0. Correction should be strictly less than the reduction factor (input numel divided by output numel). (Triggered internally at ../aten/src/ATen/native/ReduceOps.cpp:1760.)\n",
      "  output_range = torch.std(postacts, dim=0) # for visualization, include the contribution from both spline + symbolic\n"
     ]
    }
   ],
   "source": [
    "final_score, indices1, indices2, indices3 = model.forward(input_model)"
   ]
  },
  {
   "cell_type": "code",
   "execution_count": 8,
   "id": "be4a6304-ad10-4b60-9fee-29b77a03eff5",
   "metadata": {},
   "outputs": [],
   "source": [
    "contribution_scores = interpretation(model.KAN, final_score)"
   ]
  },
  {
   "cell_type": "code",
   "execution_count": 9,
   "id": "65b18958-7786-4460-94e6-b7ee4422105d",
   "metadata": {},
   "outputs": [],
   "source": [
    "contribution_scores = map_inter_to_input(contribution_scores, indices1, indices2, indices3)"
   ]
  },
  {
   "cell_type": "code",
   "execution_count": 10,
   "id": "8df44e51-ca1d-4fc9-9917-25ab2da3f5b7",
   "metadata": {},
   "outputs": [
    {
     "data": {
      "text/plain": [
       "<Axes: >"
      ]
     },
     "execution_count": 10,
     "metadata": {},
     "output_type": "execute_result"
    },
    {
     "data": {
      "image/png": "[encoded data removed]",
      "text/plain": [
       "<Figure size 1000x200 with 2 Axes>"
      ]
     },
     "metadata": {},
     "output_type": "display_data"
    }
   ],
   "source": [
    "import matplotlib.pyplot as plt\n",
    "import seaborn as sns\n",
    "\n",
    "plt.figure(figsize=(10,2))\n",
    "sns.heatmap(contribution_scores.reshape((1,-1))[:, :seq_length])"
   ]
  }
 ],
 "metadata": {
  "kernelspec": {
   "display_name": "kan_env",
   "language": "python",
   "name": "kan_env"
  },
  "language_info": {
   "codemirror_mode": {
    "name": "ipython",
    "version": 3
   },
   "file_extension": ".py",
   "mimetype": "text/x-python",
   "name": "python",
   "nbconvert_exporter": "python",
   "pygments_lexer": "ipython3",
   "version": "3.9.19"
  }
 },
 "nbformat": 4,
 "nbformat_minor": 5
}
